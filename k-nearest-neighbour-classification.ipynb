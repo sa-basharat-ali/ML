{
 "cells": [
  {
   "cell_type": "code",
   "execution_count": 1,
   "id": "00f0c1e5",
   "metadata": {
    "execution": {
     "iopub.execute_input": "2023-03-01T20:47:51.754764Z",
     "iopub.status.busy": "2023-03-01T20:47:51.754000Z",
     "iopub.status.idle": "2023-03-01T20:47:52.738505Z",
     "shell.execute_reply": "2023-03-01T20:47:52.737510Z"
    },
    "papermill": {
     "duration": 0.993714,
     "end_time": "2023-03-01T20:47:52.741462",
     "exception": false,
     "start_time": "2023-03-01T20:47:51.747748",
     "status": "completed"
    },
    "tags": []
   },
   "outputs": [],
   "source": [
    "from sklearn.datasets import load_iris\n",
    "iris = load_iris()"
   ]
  },
  {
   "cell_type": "code",
   "execution_count": 2,
   "id": "85bd8ad6",
   "metadata": {
    "execution": {
     "iopub.execute_input": "2023-03-01T20:47:52.748612Z",
     "iopub.status.busy": "2023-03-01T20:47:52.748220Z",
     "iopub.status.idle": "2023-03-01T20:47:52.790491Z",
     "shell.execute_reply": "2023-03-01T20:47:52.789601Z"
    },
    "papermill": {
     "duration": 0.048696,
     "end_time": "2023-03-01T20:47:52.793132",
     "exception": false,
     "start_time": "2023-03-01T20:47:52.744436",
     "status": "completed"
    },
    "tags": []
   },
   "outputs": [
    {
     "data": {
      "text/html": [
       "<div>\n",
       "<style scoped>\n",
       "    .dataframe tbody tr th:only-of-type {\n",
       "        vertical-align: middle;\n",
       "    }\n",
       "\n",
       "    .dataframe tbody tr th {\n",
       "        vertical-align: top;\n",
       "    }\n",
       "\n",
       "    .dataframe thead th {\n",
       "        text-align: right;\n",
       "    }\n",
       "</style>\n",
       "<table border=\"1\" class=\"dataframe\">\n",
       "  <thead>\n",
       "    <tr style=\"text-align: right;\">\n",
       "      <th></th>\n",
       "      <th>sepal length (cm)</th>\n",
       "      <th>sepal width (cm)</th>\n",
       "      <th>petal length (cm)</th>\n",
       "      <th>petal width (cm)</th>\n",
       "      <th>target</th>\n",
       "    </tr>\n",
       "  </thead>\n",
       "  <tbody>\n",
       "    <tr>\n",
       "      <th>0</th>\n",
       "      <td>5.1</td>\n",
       "      <td>3.5</td>\n",
       "      <td>1.4</td>\n",
       "      <td>0.2</td>\n",
       "      <td>0</td>\n",
       "    </tr>\n",
       "    <tr>\n",
       "      <th>1</th>\n",
       "      <td>4.9</td>\n",
       "      <td>3.0</td>\n",
       "      <td>1.4</td>\n",
       "      <td>0.2</td>\n",
       "      <td>0</td>\n",
       "    </tr>\n",
       "    <tr>\n",
       "      <th>2</th>\n",
       "      <td>4.7</td>\n",
       "      <td>3.2</td>\n",
       "      <td>1.3</td>\n",
       "      <td>0.2</td>\n",
       "      <td>0</td>\n",
       "    </tr>\n",
       "    <tr>\n",
       "      <th>3</th>\n",
       "      <td>4.6</td>\n",
       "      <td>3.1</td>\n",
       "      <td>1.5</td>\n",
       "      <td>0.2</td>\n",
       "      <td>0</td>\n",
       "    </tr>\n",
       "    <tr>\n",
       "      <th>4</th>\n",
       "      <td>5.0</td>\n",
       "      <td>3.6</td>\n",
       "      <td>1.4</td>\n",
       "      <td>0.2</td>\n",
       "      <td>0</td>\n",
       "    </tr>\n",
       "    <tr>\n",
       "      <th>...</th>\n",
       "      <td>...</td>\n",
       "      <td>...</td>\n",
       "      <td>...</td>\n",
       "      <td>...</td>\n",
       "      <td>...</td>\n",
       "    </tr>\n",
       "    <tr>\n",
       "      <th>145</th>\n",
       "      <td>6.7</td>\n",
       "      <td>3.0</td>\n",
       "      <td>5.2</td>\n",
       "      <td>2.3</td>\n",
       "      <td>2</td>\n",
       "    </tr>\n",
       "    <tr>\n",
       "      <th>146</th>\n",
       "      <td>6.3</td>\n",
       "      <td>2.5</td>\n",
       "      <td>5.0</td>\n",
       "      <td>1.9</td>\n",
       "      <td>2</td>\n",
       "    </tr>\n",
       "    <tr>\n",
       "      <th>147</th>\n",
       "      <td>6.5</td>\n",
       "      <td>3.0</td>\n",
       "      <td>5.2</td>\n",
       "      <td>2.0</td>\n",
       "      <td>2</td>\n",
       "    </tr>\n",
       "    <tr>\n",
       "      <th>148</th>\n",
       "      <td>6.2</td>\n",
       "      <td>3.4</td>\n",
       "      <td>5.4</td>\n",
       "      <td>2.3</td>\n",
       "      <td>2</td>\n",
       "    </tr>\n",
       "    <tr>\n",
       "      <th>149</th>\n",
       "      <td>5.9</td>\n",
       "      <td>3.0</td>\n",
       "      <td>5.1</td>\n",
       "      <td>1.8</td>\n",
       "      <td>2</td>\n",
       "    </tr>\n",
       "  </tbody>\n",
       "</table>\n",
       "<p>150 rows × 5 columns</p>\n",
       "</div>"
      ],
      "text/plain": [
       "     sepal length (cm)  sepal width (cm)  petal length (cm)  petal width (cm)  \\\n",
       "0                  5.1               3.5                1.4               0.2   \n",
       "1                  4.9               3.0                1.4               0.2   \n",
       "2                  4.7               3.2                1.3               0.2   \n",
       "3                  4.6               3.1                1.5               0.2   \n",
       "4                  5.0               3.6                1.4               0.2   \n",
       "..                 ...               ...                ...               ...   \n",
       "145                6.7               3.0                5.2               2.3   \n",
       "146                6.3               2.5                5.0               1.9   \n",
       "147                6.5               3.0                5.2               2.0   \n",
       "148                6.2               3.4                5.4               2.3   \n",
       "149                5.9               3.0                5.1               1.8   \n",
       "\n",
       "     target  \n",
       "0         0  \n",
       "1         0  \n",
       "2         0  \n",
       "3         0  \n",
       "4         0  \n",
       "..      ...  \n",
       "145       2  \n",
       "146       2  \n",
       "147       2  \n",
       "148       2  \n",
       "149       2  \n",
       "\n",
       "[150 rows x 5 columns]"
      ]
     },
     "execution_count": 2,
     "metadata": {},
     "output_type": "execute_result"
    }
   ],
   "source": [
    "import pandas as pd\n",
    "df = pd.DataFrame(iris.data,columns=iris.feature_names)\n",
    "df['target']=iris.target\n",
    "df"
   ]
  },
  {
   "cell_type": "code",
   "execution_count": 3,
   "id": "a5743f90",
   "metadata": {
    "execution": {
     "iopub.execute_input": "2023-03-01T20:47:52.801085Z",
     "iopub.status.busy": "2023-03-01T20:47:52.800305Z",
     "iopub.status.idle": "2023-03-01T20:47:53.106224Z",
     "shell.execute_reply": "2023-03-01T20:47:53.105084Z"
    },
    "papermill": {
     "duration": 0.312642,
     "end_time": "2023-03-01T20:47:53.108733",
     "exception": false,
     "start_time": "2023-03-01T20:47:52.796091",
     "status": "completed"
    },
    "tags": []
   },
   "outputs": [
    {
     "data": {
      "text/plain": [
       "<matplotlib.collections.PathCollection at 0x7fd3b2c08890>"
      ]
     },
     "execution_count": 3,
     "metadata": {},
     "output_type": "execute_result"
    },
    {
     "data": {
      "image/png": "[encoded data removed]",
      "text/plain": [
       "<Figure size 640x480 with 1 Axes>"
      ]
     },
     "metadata": {},
     "output_type": "display_data"
    }
   ],
   "source": [
    "df1 = df[df['target']==0]\n",
    "df2 = df[df['target']==1]\n",
    "df3 = df[df['target']==2]\n",
    "\n",
    "\n",
    "%matplotlib inline\n",
    "import matplotlib.pyplot as plt\n",
    "\n",
    "plt.scatter(df1['sepal length (cm)'],df1['sepal width (cm)'],color='yellow')\n",
    "plt.scatter(df2['sepal length (cm)'],df2['sepal width (cm)'],color='red')\n",
    "plt.scatter(df3['sepal length (cm)'],df3['sepal width (cm)'],color='blue')"
   ]
  },
  {
   "cell_type": "code",
   "execution_count": 4,
   "id": "191588a1",
   "metadata": {
    "execution": {
     "iopub.execute_input": "2023-03-01T20:47:53.117418Z",
     "iopub.status.busy": "2023-03-01T20:47:53.117063Z",
     "iopub.status.idle": "2023-03-01T20:47:53.175636Z",
     "shell.execute_reply": "2023-03-01T20:47:53.174633Z"
    },
    "papermill": {
     "duration": 0.066202,
     "end_time": "2023-03-01T20:47:53.178526",
     "exception": false,
     "start_time": "2023-03-01T20:47:53.112324",
     "status": "completed"
    },
    "tags": []
   },
   "outputs": [],
   "source": [
    "from sklearn.model_selection import train_test_split\n",
    "X_train, X_test, y_train, y_test = train_test_split(iris.data, iris.target, test_size=0.2)"
   ]
  },
  {
   "cell_type": "code",
   "execution_count": 5,
   "id": "336d3426",
   "metadata": {
    "execution": {
     "iopub.execute_input": "2023-03-01T20:47:53.186867Z",
     "iopub.status.busy": "2023-03-01T20:47:53.186468Z",
     "iopub.status.idle": "2023-03-01T20:47:53.365886Z",
     "shell.execute_reply": "2023-03-01T20:47:53.364911Z"
    },
    "papermill": {
     "duration": 0.186973,
     "end_time": "2023-03-01T20:47:53.368960",
     "exception": false,
     "start_time": "2023-03-01T20:47:53.181987",
     "status": "completed"
    },
    "tags": []
   },
   "outputs": [],
   "source": [
    "from sklearn.neighbors import KNeighborsClassifier\n",
    "knc= KNeighborsClassifier(n_neighbors=3)"
   ]
  },
  {
   "cell_type": "code",
   "execution_count": 6,
   "id": "135a7148",
   "metadata": {
    "execution": {
     "iopub.execute_input": "2023-03-01T20:47:53.381240Z",
     "iopub.status.busy": "2023-03-01T20:47:53.380736Z",
     "iopub.status.idle": "2023-03-01T20:47:53.398233Z",
     "shell.execute_reply": "2023-03-01T20:47:53.397041Z"
    },
    "papermill": {
     "duration": 0.026945,
     "end_time": "2023-03-01T20:47:53.400790",
     "exception": false,
     "start_time": "2023-03-01T20:47:53.373845",
     "status": "completed"
    },
    "tags": []
   },
   "outputs": [
    {
     "data": {
      "text/plain": [
       "KNeighborsClassifier(n_neighbors=3)"
      ]
     },
     "execution_count": 6,
     "metadata": {},
     "output_type": "execute_result"
    }
   ],
   "source": [
    "knc.fit(X_train,y_train)"
   ]
  },
  {
   "cell_type": "code",
   "execution_count": 7,
   "id": "7de12452",
   "metadata": {
    "execution": {
     "iopub.execute_input": "2023-03-01T20:47:53.409819Z",
     "iopub.status.busy": "2023-03-01T20:47:53.409425Z",
     "iopub.status.idle": "2023-03-01T20:47:53.422157Z",
     "shell.execute_reply": "2023-03-01T20:47:53.421078Z"
    },
    "papermill": {
     "duration": 0.019934,
     "end_time": "2023-03-01T20:47:53.424450",
     "exception": false,
     "start_time": "2023-03-01T20:47:53.404516",
     "status": "completed"
    },
    "tags": []
   },
   "outputs": [
    {
     "data": {
      "text/plain": [
       "array([0, 0, 0, 1, 0, 2, 0, 2, 2, 0, 2, 1, 1, 0, 0, 1, 1, 1, 0, 0, 1, 2,\n",
       "       2, 2, 0, 1, 2, 2, 2, 0])"
      ]
     },
     "execution_count": 7,
     "metadata": {},
     "output_type": "execute_result"
    }
   ],
   "source": [
    "knc.predict(X_test)"
   ]
  },
  {
   "cell_type": "code",
   "execution_count": 8,
   "id": "86b1315d",
   "metadata": {
    "execution": {
     "iopub.execute_input": "2023-03-01T20:47:53.433509Z",
     "iopub.status.busy": "2023-03-01T20:47:53.433174Z",
     "iopub.status.idle": "2023-03-01T20:47:53.439336Z",
     "shell.execute_reply": "2023-03-01T20:47:53.438264Z"
    },
    "papermill": {
     "duration": 0.013758,
     "end_time": "2023-03-01T20:47:53.441971",
     "exception": false,
     "start_time": "2023-03-01T20:47:53.428213",
     "status": "completed"
    },
    "tags": []
   },
   "outputs": [
    {
     "data": {
      "text/plain": [
       "array([0, 0, 0, 1, 0, 2, 0, 2, 1, 0, 2, 1, 1, 0, 0, 1, 1, 1, 0, 0, 1, 2,\n",
       "       2, 2, 0, 1, 2, 2, 2, 0])"
      ]
     },
     "execution_count": 8,
     "metadata": {},
     "output_type": "execute_result"
    }
   ],
   "source": [
    "y_test"
   ]
  }
 ],
 "metadata": {
  "kernelspec": {
   "display_name": "Python 3",
   "language": "python",
   "name": "python3"
  },
  "language_info": {
   "codemirror_mode": {
    "name": "ipython",
    "version": 3
   },
   "file_extension": ".py",
   "mimetype": "text/x-python",
   "name": "python",
   "nbconvert_exporter": "python",
   "pygments_lexer": "ipython3",
   "version": "3.7.12"
  },
  "papermill": {
   "default_parameters": {},
   "duration": 12.031586,
   "end_time": "2023-03-01T20:47:54.166797",
   "environment_variables": {},
   "exception": null,
   "input_path": "__notebook__.ipynb",
   "output_path": "__notebook__.ipynb",
   "parameters": {},
   "start_time": "2023-03-01T20:47:42.135211",
   "version": "2.4.0"
  }
 },
 "nbformat": 4,
 "nbformat_minor": 5
}
