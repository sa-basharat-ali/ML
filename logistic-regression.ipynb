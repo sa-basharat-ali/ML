{
 "cells": [
  {
   "cell_type": "code",
   "execution_count": 1,
   "id": "58f504dd",
   "metadata": {
    "execution": {
     "iopub.execute_input": "2023-03-04T19:30:23.506281Z",
     "iopub.status.busy": "2023-03-04T19:30:23.505170Z",
     "iopub.status.idle": "2023-03-04T19:30:23.587473Z",
     "shell.execute_reply": "2023-03-04T19:30:23.586076Z"
    },
    "papermill": {
     "duration": 0.096494,
     "end_time": "2023-03-04T19:30:23.590790",
     "exception": false,
     "start_time": "2023-03-04T19:30:23.494296",
     "status": "completed"
    },
    "tags": []
   },
   "outputs": [
    {
     "data": {
      "text/html": [
       "<div>\n",
       "<style scoped>\n",
       "    .dataframe tbody tr th:only-of-type {\n",
       "        vertical-align: middle;\n",
       "    }\n",
       "\n",
       "    .dataframe tbody tr th {\n",
       "        vertical-align: top;\n",
       "    }\n",
       "\n",
       "    .dataframe thead th {\n",
       "        text-align: right;\n",
       "    }\n",
       "</style>\n",
       "<table border=\"1\" class=\"dataframe\">\n",
       "  <thead>\n",
       "    <tr style=\"text-align: right;\">\n",
       "      <th></th>\n",
       "      <th>satisfaction_level</th>\n",
       "      <th>last_evaluation</th>\n",
       "      <th>number_project</th>\n",
       "      <th>average_montly_hours</th>\n",
       "      <th>time_spend_company</th>\n",
       "      <th>Work_accident</th>\n",
       "      <th>left</th>\n",
       "      <th>promotion_last_5years</th>\n",
       "      <th>Department</th>\n",
       "      <th>salary</th>\n",
       "    </tr>\n",
       "  </thead>\n",
       "  <tbody>\n",
       "    <tr>\n",
       "      <th>0</th>\n",
       "      <td>0.38</td>\n",
       "      <td>0.53</td>\n",
       "      <td>2</td>\n",
       "      <td>157</td>\n",
       "      <td>3</td>\n",
       "      <td>0</td>\n",
       "      <td>1</td>\n",
       "      <td>0</td>\n",
       "      <td>sales</td>\n",
       "      <td>low</td>\n",
       "    </tr>\n",
       "    <tr>\n",
       "      <th>1</th>\n",
       "      <td>0.80</td>\n",
       "      <td>0.86</td>\n",
       "      <td>5</td>\n",
       "      <td>262</td>\n",
       "      <td>6</td>\n",
       "      <td>0</td>\n",
       "      <td>1</td>\n",
       "      <td>0</td>\n",
       "      <td>sales</td>\n",
       "      <td>medium</td>\n",
       "    </tr>\n",
       "    <tr>\n",
       "      <th>2</th>\n",
       "      <td>0.11</td>\n",
       "      <td>0.88</td>\n",
       "      <td>7</td>\n",
       "      <td>272</td>\n",
       "      <td>4</td>\n",
       "      <td>0</td>\n",
       "      <td>1</td>\n",
       "      <td>0</td>\n",
       "      <td>sales</td>\n",
       "      <td>medium</td>\n",
       "    </tr>\n",
       "    <tr>\n",
       "      <th>3</th>\n",
       "      <td>0.72</td>\n",
       "      <td>0.87</td>\n",
       "      <td>5</td>\n",
       "      <td>223</td>\n",
       "      <td>5</td>\n",
       "      <td>0</td>\n",
       "      <td>1</td>\n",
       "      <td>0</td>\n",
       "      <td>sales</td>\n",
       "      <td>low</td>\n",
       "    </tr>\n",
       "    <tr>\n",
       "      <th>4</th>\n",
       "      <td>0.37</td>\n",
       "      <td>0.52</td>\n",
       "      <td>2</td>\n",
       "      <td>159</td>\n",
       "      <td>3</td>\n",
       "      <td>0</td>\n",
       "      <td>1</td>\n",
       "      <td>0</td>\n",
       "      <td>sales</td>\n",
       "      <td>low</td>\n",
       "    </tr>\n",
       "    <tr>\n",
       "      <th>...</th>\n",
       "      <td>...</td>\n",
       "      <td>...</td>\n",
       "      <td>...</td>\n",
       "      <td>...</td>\n",
       "      <td>...</td>\n",
       "      <td>...</td>\n",
       "      <td>...</td>\n",
       "      <td>...</td>\n",
       "      <td>...</td>\n",
       "      <td>...</td>\n",
       "    </tr>\n",
       "    <tr>\n",
       "      <th>14994</th>\n",
       "      <td>0.40</td>\n",
       "      <td>0.57</td>\n",
       "      <td>2</td>\n",
       "      <td>151</td>\n",
       "      <td>3</td>\n",
       "      <td>0</td>\n",
       "      <td>1</td>\n",
       "      <td>0</td>\n",
       "      <td>support</td>\n",
       "      <td>low</td>\n",
       "    </tr>\n",
       "    <tr>\n",
       "      <th>14995</th>\n",
       "      <td>0.37</td>\n",
       "      <td>0.48</td>\n",
       "      <td>2</td>\n",
       "      <td>160</td>\n",
       "      <td>3</td>\n",
       "      <td>0</td>\n",
       "      <td>1</td>\n",
       "      <td>0</td>\n",
       "      <td>support</td>\n",
       "      <td>low</td>\n",
       "    </tr>\n",
       "    <tr>\n",
       "      <th>14996</th>\n",
       "      <td>0.37</td>\n",
       "      <td>0.53</td>\n",
       "      <td>2</td>\n",
       "      <td>143</td>\n",
       "      <td>3</td>\n",
       "      <td>0</td>\n",
       "      <td>1</td>\n",
       "      <td>0</td>\n",
       "      <td>support</td>\n",
       "      <td>low</td>\n",
       "    </tr>\n",
       "    <tr>\n",
       "      <th>14997</th>\n",
       "      <td>0.11</td>\n",
       "      <td>0.96</td>\n",
       "      <td>6</td>\n",
       "      <td>280</td>\n",
       "      <td>4</td>\n",
       "      <td>0</td>\n",
       "      <td>1</td>\n",
       "      <td>0</td>\n",
       "      <td>support</td>\n",
       "      <td>low</td>\n",
       "    </tr>\n",
       "    <tr>\n",
       "      <th>14998</th>\n",
       "      <td>0.37</td>\n",
       "      <td>0.52</td>\n",
       "      <td>2</td>\n",
       "      <td>158</td>\n",
       "      <td>3</td>\n",
       "      <td>0</td>\n",
       "      <td>1</td>\n",
       "      <td>0</td>\n",
       "      <td>support</td>\n",
       "      <td>low</td>\n",
       "    </tr>\n",
       "  </tbody>\n",
       "</table>\n",
       "<p>14999 rows × 10 columns</p>\n",
       "</div>"
      ],
      "text/plain": [
       "       satisfaction_level  last_evaluation  number_project  \\\n",
       "0                    0.38             0.53               2   \n",
       "1                    0.80             0.86               5   \n",
       "2                    0.11             0.88               7   \n",
       "3                    0.72             0.87               5   \n",
       "4                    0.37             0.52               2   \n",
       "...                   ...              ...             ...   \n",
       "14994                0.40             0.57               2   \n",
       "14995                0.37             0.48               2   \n",
       "14996                0.37             0.53               2   \n",
       "14997                0.11             0.96               6   \n",
       "14998                0.37             0.52               2   \n",
       "\n",
       "       average_montly_hours  time_spend_company  Work_accident  left  \\\n",
       "0                       157                   3              0     1   \n",
       "1                       262                   6              0     1   \n",
       "2                       272                   4              0     1   \n",
       "3                       223                   5              0     1   \n",
       "4                       159                   3              0     1   \n",
       "...                     ...                 ...            ...   ...   \n",
       "14994                   151                   3              0     1   \n",
       "14995                   160                   3              0     1   \n",
       "14996                   143                   3              0     1   \n",
       "14997                   280                   4              0     1   \n",
       "14998                   158                   3              0     1   \n",
       "\n",
       "       promotion_last_5years Department  salary  \n",
       "0                          0      sales     low  \n",
       "1                          0      sales  medium  \n",
       "2                          0      sales  medium  \n",
       "3                          0      sales     low  \n",
       "4                          0      sales     low  \n",
       "...                      ...        ...     ...  \n",
       "14994                      0    support     low  \n",
       "14995                      0    support     low  \n",
       "14996                      0    support     low  \n",
       "14997                      0    support     low  \n",
       "14998                      0    support     low  \n",
       "\n",
       "[14999 rows x 10 columns]"
      ]
     },
     "execution_count": 1,
     "metadata": {},
     "output_type": "execute_result"
    }
   ],
   "source": [
    "import pandas as pd\n",
    "import matplotlib.pyplot as plt\n",
    "\n",
    "df = pd.read_csv('/kaggle/input/hr-analytics/HR_comma_sep.csv')\n",
    "df"
   ]
  },
  {
   "cell_type": "code",
   "execution_count": 2,
   "id": "04f96bd6",
   "metadata": {
    "execution": {
     "iopub.execute_input": "2023-03-04T19:30:23.603340Z",
     "iopub.status.busy": "2023-03-04T19:30:23.602929Z",
     "iopub.status.idle": "2023-03-04T19:30:23.611058Z",
     "shell.execute_reply": "2023-03-04T19:30:23.609694Z"
    },
    "papermill": {
     "duration": 0.017815,
     "end_time": "2023-03-04T19:30:23.614046",
     "exception": false,
     "start_time": "2023-03-04T19:30:23.596231",
     "status": "completed"
    },
    "tags": []
   },
   "outputs": [
    {
     "data": {
      "text/plain": [
       "Index(['satisfaction_level', 'last_evaluation', 'number_project',\n",
       "       'average_montly_hours', 'time_spend_company', 'Work_accident', 'left',\n",
       "       'promotion_last_5years', 'Department', 'salary'],\n",
       "      dtype='object')"
      ]
     },
     "execution_count": 2,
     "metadata": {},
     "output_type": "execute_result"
    }
   ],
   "source": [
    "df.columns"
   ]
  },
  {
   "cell_type": "markdown",
   "id": "a78f1e31",
   "metadata": {
    "papermill": {
     "duration": 0.004957,
     "end_time": "2023-03-04T19:30:23.624321",
     "exception": false,
     "start_time": "2023-03-04T19:30:23.619364",
     "status": "completed"
    },
    "tags": []
   },
   "source": [
    "Checking the distribution and the values are in 0s or 1s which seems a categorical value. Therefore we will use Logistic Regression"
   ]
  },
  {
   "cell_type": "code",
   "execution_count": 3,
   "id": "1e94df0f",
   "metadata": {
    "execution": {
     "iopub.execute_input": "2023-03-04T19:30:23.637354Z",
     "iopub.status.busy": "2023-03-04T19:30:23.636685Z",
     "iopub.status.idle": "2023-03-04T19:30:24.011198Z",
     "shell.execute_reply": "2023-03-04T19:30:24.009660Z"
    },
    "papermill": {
     "duration": 0.384624,
     "end_time": "2023-03-04T19:30:24.014379",
     "exception": false,
     "start_time": "2023-03-04T19:30:23.629755",
     "status": "completed"
    },
    "tags": []
   },
   "outputs": [
    {
     "data": {
      "text/plain": [
       "<matplotlib.collections.PathCollection at 0x7fa8e4422b10>"
      ]
     },
     "execution_count": 3,
     "metadata": {},
     "output_type": "execute_result"
    },
    {
     "data": {
      "image/png": "[encoded data removed]",
      "text/plain": [
       "<Figure size 640x480 with 1 Axes>"
      ]
     },
     "metadata": {},
     "output_type": "display_data"
    }
   ],
   "source": [
    "%matplotlib inline\n",
    "plt.scatter(df.number_project,df.left)"
   ]
  },
  {
   "cell_type": "code",
   "execution_count": 4,
   "id": "5efaf460",
   "metadata": {
    "execution": {
     "iopub.execute_input": "2023-03-04T19:30:24.028380Z",
     "iopub.status.busy": "2023-03-04T19:30:24.027941Z",
     "iopub.status.idle": "2023-03-04T19:30:25.181137Z",
     "shell.execute_reply": "2023-03-04T19:30:25.179749Z"
    },
    "papermill": {
     "duration": 1.163438,
     "end_time": "2023-03-04T19:30:25.184173",
     "exception": false,
     "start_time": "2023-03-04T19:30:24.020735",
     "status": "completed"
    },
    "tags": []
   },
   "outputs": [],
   "source": [
    "from sklearn.model_selection import train_test_split"
   ]
  },
  {
   "cell_type": "markdown",
   "id": "029d9b72",
   "metadata": {
    "papermill": {
     "duration": 0.005287,
     "end_time": "2023-03-04T19:30:25.195269",
     "exception": false,
     "start_time": "2023-03-04T19:30:25.189982",
     "status": "completed"
    },
    "tags": []
   },
   "source": [
    "Defining X and y values which will be distributed below"
   ]
  },
  {
   "cell_type": "code",
   "execution_count": 5,
   "id": "3f71f03a",
   "metadata": {
    "execution": {
     "iopub.execute_input": "2023-03-04T19:30:25.208397Z",
     "iopub.status.busy": "2023-03-04T19:30:25.207960Z",
     "iopub.status.idle": "2023-03-04T19:30:25.222403Z",
     "shell.execute_reply": "2023-03-04T19:30:25.221035Z"
    },
    "papermill": {
     "duration": 0.024182,
     "end_time": "2023-03-04T19:30:25.225108",
     "exception": false,
     "start_time": "2023-03-04T19:30:25.200926",
     "status": "completed"
    },
    "tags": []
   },
   "outputs": [],
   "source": [
    "X = df[['satisfaction_level', 'last_evaluation', 'number_project',\n",
    "       'average_montly_hours', 'time_spend_company', 'Work_accident',]]\n",
    "\n",
    "y = df[['left']]"
   ]
  },
  {
   "cell_type": "code",
   "execution_count": 6,
   "id": "15374426",
   "metadata": {
    "execution": {
     "iopub.execute_input": "2023-03-04T19:30:25.238604Z",
     "iopub.status.busy": "2023-03-04T19:30:25.238138Z",
     "iopub.status.idle": "2023-03-04T19:30:25.246906Z",
     "shell.execute_reply": "2023-03-04T19:30:25.245602Z"
    },
    "papermill": {
     "duration": 0.019463,
     "end_time": "2023-03-04T19:30:25.250386",
     "exception": false,
     "start_time": "2023-03-04T19:30:25.230923",
     "status": "completed"
    },
    "tags": []
   },
   "outputs": [
    {
     "data": {
      "text/plain": [
       "(14999, 10)"
      ]
     },
     "execution_count": 6,
     "metadata": {},
     "output_type": "execute_result"
    }
   ],
   "source": [
    "df.shape"
   ]
  },
  {
   "cell_type": "markdown",
   "id": "d2d01646",
   "metadata": {
    "papermill": {
     "duration": 0.005644,
     "end_time": "2023-03-04T19:30:25.262012",
     "exception": false,
     "start_time": "2023-03-04T19:30:25.256368",
     "status": "completed"
    },
    "tags": []
   },
   "source": [
    "Splitting X and y values in train and test with test size 10% of the data which means 90% will be training data"
   ]
  },
  {
   "cell_type": "code",
   "execution_count": 7,
   "id": "3a059780",
   "metadata": {
    "execution": {
     "iopub.execute_input": "2023-03-04T19:30:25.275813Z",
     "iopub.status.busy": "2023-03-04T19:30:25.275341Z",
     "iopub.status.idle": "2023-03-04T19:30:25.287724Z",
     "shell.execute_reply": "2023-03-04T19:30:25.286400Z"
    },
    "papermill": {
     "duration": 0.022716,
     "end_time": "2023-03-04T19:30:25.290748",
     "exception": false,
     "start_time": "2023-03-04T19:30:25.268032",
     "status": "completed"
    },
    "tags": []
   },
   "outputs": [],
   "source": [
    "X_train, X_test, y_train, y_test = train_test_split(X,y,test_size = 0.1)"
   ]
  },
  {
   "cell_type": "markdown",
   "id": "9bc7d683",
   "metadata": {
    "papermill": {
     "duration": 0.005511,
     "end_time": "2023-03-04T19:30:25.302030",
     "exception": false,
     "start_time": "2023-03-04T19:30:25.296519",
     "status": "completed"
    },
    "tags": []
   },
   "source": [
    "Importing and initializing Logistic Regression"
   ]
  },
  {
   "cell_type": "code",
   "execution_count": 8,
   "id": "3e845a5c",
   "metadata": {
    "execution": {
     "iopub.execute_input": "2023-03-04T19:30:25.315521Z",
     "iopub.status.busy": "2023-03-04T19:30:25.315090Z",
     "iopub.status.idle": "2023-03-04T19:30:25.404461Z",
     "shell.execute_reply": "2023-03-04T19:30:25.403058Z"
    },
    "papermill": {
     "duration": 0.09957,
     "end_time": "2023-03-04T19:30:25.407451",
     "exception": false,
     "start_time": "2023-03-04T19:30:25.307881",
     "status": "completed"
    },
    "tags": []
   },
   "outputs": [],
   "source": [
    "from sklearn.linear_model import LogisticRegression"
   ]
  },
  {
   "cell_type": "code",
   "execution_count": 9,
   "id": "a64c52b7",
   "metadata": {
    "execution": {
     "iopub.execute_input": "2023-03-04T19:30:25.421631Z",
     "iopub.status.busy": "2023-03-04T19:30:25.421164Z",
     "iopub.status.idle": "2023-03-04T19:30:25.426151Z",
     "shell.execute_reply": "2023-03-04T19:30:25.424854Z"
    },
    "papermill": {
     "duration": 0.014966,
     "end_time": "2023-03-04T19:30:25.428828",
     "exception": false,
     "start_time": "2023-03-04T19:30:25.413862",
     "status": "completed"
    },
    "tags": []
   },
   "outputs": [],
   "source": [
    "model = LogisticRegression()"
   ]
  },
  {
   "cell_type": "markdown",
   "id": "363710a8",
   "metadata": {
    "papermill": {
     "duration": 0.005486,
     "end_time": "2023-03-04T19:30:25.440199",
     "exception": false,
     "start_time": "2023-03-04T19:30:25.434713",
     "status": "completed"
    },
    "tags": []
   },
   "source": [
    "Fitting/training the model with our splitted values"
   ]
  },
  {
   "cell_type": "code",
   "execution_count": 10,
   "id": "fde0f4ff",
   "metadata": {
    "execution": {
     "iopub.execute_input": "2023-03-04T19:30:25.453552Z",
     "iopub.status.busy": "2023-03-04T19:30:25.453113Z",
     "iopub.status.idle": "2023-03-04T19:30:26.000528Z",
     "shell.execute_reply": "2023-03-04T19:30:25.998594Z"
    },
    "papermill": {
     "duration": 0.558445,
     "end_time": "2023-03-04T19:30:26.004440",
     "exception": false,
     "start_time": "2023-03-04T19:30:25.445995",
     "status": "completed"
    },
    "tags": []
   },
   "outputs": [
    {
     "name": "stderr",
     "output_type": "stream",
     "text": [
      "/opt/conda/lib/python3.7/site-packages/sklearn/utils/validation.py:993: DataConversionWarning: A column-vector y was passed when a 1d array was expected. Please change the shape of y to (n_samples, ), for example using ravel().\n",
      "  y = column_or_1d(y, warn=True)\n"
     ]
    },
    {
     "data": {
      "text/plain": [
       "LogisticRegression()"
      ]
     },
     "execution_count": 10,
     "metadata": {},
     "output_type": "execute_result"
    }
   ],
   "source": [
    "model.fit(X_train,y_train)"
   ]
  },
  {
   "cell_type": "markdown",
   "id": "b829656b",
   "metadata": {
    "papermill": {
     "duration": 0.013986,
     "end_time": "2023-03-04T19:30:26.028125",
     "exception": false,
     "start_time": "2023-03-04T19:30:26.014139",
     "status": "completed"
    },
    "tags": []
   },
   "source": [
    "Predicting the values"
   ]
  },
  {
   "cell_type": "code",
   "execution_count": 11,
   "id": "dc53a3b2",
   "metadata": {
    "execution": {
     "iopub.execute_input": "2023-03-04T19:30:26.093117Z",
     "iopub.status.busy": "2023-03-04T19:30:26.092063Z",
     "iopub.status.idle": "2023-03-04T19:30:26.106443Z",
     "shell.execute_reply": "2023-03-04T19:30:26.105445Z"
    },
    "papermill": {
     "duration": 0.050865,
     "end_time": "2023-03-04T19:30:26.109018",
     "exception": false,
     "start_time": "2023-03-04T19:30:26.058153",
     "status": "completed"
    },
    "tags": []
   },
   "outputs": [
    {
     "data": {
      "text/plain": [
       "array([1, 0, 1, ..., 1, 0, 0])"
      ]
     },
     "execution_count": 11,
     "metadata": {},
     "output_type": "execute_result"
    }
   ],
   "source": [
    "model.predict(X_test)"
   ]
  }
 ],
 "metadata": {
  "kernelspec": {
   "display_name": "Python 3",
   "language": "python",
   "name": "python3"
  },
  "language_info": {
   "codemirror_mode": {
    "name": "ipython",
    "version": 3
   },
   "file_extension": ".py",
   "mimetype": "text/x-python",
   "name": "python",
   "nbconvert_exporter": "python",
   "pygments_lexer": "ipython3",
   "version": "3.7.12"
  },
  "papermill": {
   "default_parameters": {},
   "duration": 15.632485,
   "end_time": "2023-03-04T19:30:26.937743",
   "environment_variables": {},
   "exception": null,
   "input_path": "__notebook__.ipynb",
   "output_path": "__notebook__.ipynb",
   "parameters": {},
   "start_time": "2023-03-04T19:30:11.305258",
   "version": "2.3.4"
  }
 },
 "nbformat": 4,
 "nbformat_minor": 5
}
